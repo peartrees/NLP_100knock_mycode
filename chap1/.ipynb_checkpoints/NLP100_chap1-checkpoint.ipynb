{
 "cells": [
  {
   "cell_type": "markdown",
   "metadata": {},
   "source": [
    "## 00"
   ]
  },
  {
   "cell_type": "code",
   "execution_count": 7,
   "metadata": {},
   "outputs": [
    {
     "name": "stdout",
     "output_type": "stream",
     "text": [
      "desserts\n"
     ]
    }
   ],
   "source": [
    "s = \"stressed\"\n",
    "print(s[::-1])"
   ]
  },
  {
   "cell_type": "markdown",
   "metadata": {},
   "source": [
    "## 01"
   ]
  },
  {
   "cell_type": "code",
   "execution_count": 36,
   "metadata": {},
   "outputs": [
    {
     "name": "stdout",
     "output_type": "stream",
     "text": [
      "タクシー\n"
     ]
    }
   ],
   "source": [
    "s = \"パタトクカシーー\"\n",
    "print(s[1::2])"
   ]
  },
  {
   "cell_type": "markdown",
   "metadata": {},
   "source": [
    "## 02"
   ]
  },
  {
   "cell_type": "code",
   "execution_count": 37,
   "metadata": {},
   "outputs": [
    {
     "name": "stdout",
     "output_type": "stream",
     "text": [
      "パタトクカシーー\n"
     ]
    }
   ],
   "source": [
    "s1 = \"パトカー\"\n",
    "s2 = \"タクシー\"\n",
    "result = \"\"\n",
    "for i in range(len(s1)):\n",
    "    result = result + s1[int(i)] + s2[int(i)]\n",
    "print(result)"
   ]
  },
  {
   "cell_type": "markdown",
   "metadata": {},
   "source": [
    "## 03"
   ]
  },
  {
   "cell_type": "code",
   "execution_count": 45,
   "metadata": {},
   "outputs": [
    {
     "data": {
      "text/plain": [
       "[3, 1, 4, 1, 5, 9, 2, 6, 5, 3, 5, 8, 9, 7, 9]"
      ]
     },
     "execution_count": 45,
     "metadata": {},
     "output_type": "execute_result"
    }
   ],
   "source": [
    "s = \"Now I need a drink, alcoholic of course, after the heavy lectures involving quantum mechanics.\".split()\n",
    "result = []\n",
    "for i in range(len(s)):\n",
    "    result.append(len(s[i].rstrip(\",\").rstrip(\".\")))\n",
    "result"
   ]
  },
  {
   "cell_type": "markdown",
   "metadata": {},
   "source": [
    "## 04"
   ]
  },
  {
   "cell_type": "code",
   "execution_count": 67,
   "metadata": {},
   "outputs": [
    {
     "data": {
      "text/plain": [
       "{0: 'H',\n",
       " 1: 'He',\n",
       " 2: 'Li',\n",
       " 3: 'Be',\n",
       " 4: 'B',\n",
       " 5: 'C',\n",
       " 6: 'N',\n",
       " 7: 'O',\n",
       " 8: 'F',\n",
       " 9: 'Ne',\n",
       " 10: 'Na',\n",
       " 11: 'Mi',\n",
       " 12: 'Al',\n",
       " 13: 'Si',\n",
       " 14: 'P',\n",
       " 15: 'S',\n",
       " 16: 'Cl',\n",
       " 17: 'Ar',\n",
       " 18: 'K',\n",
       " 19: 'Ca'}"
      ]
     },
     "execution_count": 67,
     "metadata": {},
     "output_type": "execute_result"
    }
   ],
   "source": [
    "s = \"Hi He Lied Because Boron Could Not Oxidize Fluorine. New Nations Might Also Sign Peace Security Clause. Arthur King Can.\".split()\n",
    "result = {}\n",
    "one_char_list = [1, 5, 6, 7, 8, 9, 15, 16, 19]\n",
    "for i in range(len(s)):\n",
    "    if i+1 in one_char_list:\n",
    "        result[i] = s[i].rstrip(\",\").rstrip(\".\")[0]\n",
    "    else:\n",
    "        result[i] = s[i].rstrip(\",\").rstrip(\".\")[0:2]\n",
    "result"
   ]
  },
  {
   "cell_type": "markdown",
   "metadata": {},
   "source": [
    "## 05"
   ]
  },
  {
   "cell_type": "code",
   "execution_count": 100,
   "metadata": {},
   "outputs": [
    {
     "data": {
      "text/plain": [
       "(['Iam', 'aman', 'anNLPer', 'NLPer'],\n",
       " ['Ia', 'am', 'ma', 'an', 'nN', 'NL', 'LP', 'Pe', 'er', 'r'])"
      ]
     },
     "execution_count": 100,
     "metadata": {},
     "output_type": "execute_result"
    }
   ],
   "source": [
    "def n_gram(s, n):\n",
    "    # voc_bi_gram\n",
    "    s1 = s.split()\n",
    "    result1 = []\n",
    "    for i in range(len(s1)):\n",
    "        result1.append(\"\".join(s1[i:i+n]))\n",
    "    \n",
    "    # char_bi_gram\n",
    "    s2 = \"\".join(s.split())\n",
    "    result2 = []\n",
    "    for i in range(len(s2)):\n",
    "        result2.append(\"\".join(s2[i:i+n]))\n",
    "    return result1, result2\n",
    "\n",
    "n_gram(\"I am an NLPer\", 2)\n"
   ]
  },
  {
   "cell_type": "markdown",
   "metadata": {},
   "source": [
    "## 06"
   ]
  },
  {
   "cell_type": "code",
   "execution_count": 116,
   "metadata": {},
   "outputs": [
    {
     "name": "stdout",
     "output_type": "stream",
     "text": [
      "和集合: {'ph', 'e', 'di', 'se', 'ag', 'pa', 'is', 'gr', 'h', 'ap', 'ad', 'ar', 'ra'}\n",
      "積集合: {'pa', 'ap', 'ar', 'ra'}\n",
      "差集合: {'e', 'di', 'se', 'is', 'ad'}\n",
      "'se'は和集合に含まれるかどうか: True\n"
     ]
    }
   ],
   "source": [
    "s1 = \"paraparaparadise\"\n",
    "s2 = \"paragraph\"\n",
    "X = n_gram(s1, 2)[1]\n",
    "Y = n_gram(s2, 2)[1]\n",
    "set_X = set(X)\n",
    "set_Y = set(Y)\n",
    "s_union = set_X | set_Y\n",
    "s_intersection = set_X & set_Y\n",
    "s_difference = set_X - set_Y\n",
    "\n",
    "print(\"和集合: {}\".format(s_union))\n",
    "print(\"積集合: {}\".format(s_intersection))\n",
    "print(\"差集合: {}\".format(s_difference))\n",
    "print(\"'se'は和集合に含まれるかどうか: {}\".format({\"se\"}.issubset(s_union)))"
   ]
  },
  {
   "cell_type": "markdown",
   "metadata": {},
   "source": [
    "## 07"
   ]
  },
  {
   "cell_type": "code",
   "execution_count": null,
   "metadata": {},
   "outputs": [],
   "source": []
  },
  {
   "cell_type": "markdown",
   "metadata": {},
   "source": [
    "## 08"
   ]
  },
  {
   "cell_type": "code",
   "execution_count": null,
   "metadata": {},
   "outputs": [],
   "source": []
  },
  {
   "cell_type": "markdown",
   "metadata": {},
   "source": [
    "## 09"
   ]
  },
  {
   "cell_type": "code",
   "execution_count": null,
   "metadata": {},
   "outputs": [],
   "source": []
  }
 ],
 "metadata": {
  "kernelspec": {
   "display_name": "Python 3",
   "language": "python",
   "name": "python3"
  },
  "language_info": {
   "codemirror_mode": {
    "name": "ipython",
    "version": 3
   },
   "file_extension": ".py",
   "mimetype": "text/x-python",
   "name": "python",
   "nbconvert_exporter": "python",
   "pygments_lexer": "ipython3",
   "version": "3.7.6"
  }
 },
 "nbformat": 4,
 "nbformat_minor": 4
}
